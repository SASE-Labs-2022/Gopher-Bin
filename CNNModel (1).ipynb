{
 "cells": [
  {
   "cell_type": "code",
   "execution_count": 9,
   "id": "0d5e5879",
   "metadata": {},
   "outputs": [
    {
     "data": {
      "text/plain": [
       "(50000, 32, 32, 3)"
      ]
     },
     "execution_count": 9,
     "metadata": {},
     "output_type": "execute_result"
    }
   ],
   "source": [
    "import tensorflow as tf\n",
    "from tensorflow.keras import datasets, layers, models\n",
    "\n",
    "import numpy as np\n",
    "import matplotlib.pyplot as plt\n",
    "\n",
    "import pandas as pd\n",
    "\n",
    "#data extraction - sample with existing mnist dataset cifar10\n",
    "#this code must be replaced to extract the required datasets from kaggle\n",
    "data = tf.keras.datasets.cifar10\n",
    "(train_data, train_labels), (test_data, test_labels) = data.load_data()\n",
    "\n",
    "#inspecting the dataset\n",
    "train_data.shape"
   ]
  },
  {
   "cell_type": "code",
   "execution_count": null,
   "id": "d8f52c38",
   "metadata": {},
   "outputs": [],
   "source": [
    "#list of cateogories to use in classification\n",
    "classes = []\n",
    "\n",
    "#scaling down images to grayscale\n",
    "train_images, test_images = train_images/255.0, test_images/255.0"
   ]
  },
  {
   "cell_type": "code",
   "execution_count": null,
   "id": "7655857a",
   "metadata": {},
   "outputs": [],
   "source": [
    "#code to add -- data visualization -> examining the dataset"
   ]
  },
  {
   "cell_type": "code",
   "execution_count": null,
   "id": "544c3c94",
   "metadata": {},
   "outputs": [],
   "source": [
    "#creating convolutional layers\n",
    "model = models.Sequential()\n",
    "\n",
    "#adding convolutional and pooling layers\n",
    "model.add(layers.Conv2D(32, (3,3), activation=\"relu\", input_shape=(32,32,3)))\n",
    "model.add(layers.MaxPooling2D(2,2))\n",
    "model.add(layers.Conv2D(64, (3,3), activation=\"relu\"))\n",
    "model.add(layers.MaxPooling2D(2,2))\n",
    "\n",
    "#reducing the output layers from before to one-dimension\n",
    "model.add(layers.Flatten())\n",
    "\n",
    "#Dense layers with nodes that have scores indicating \n",
    "model.Dense(100, activation=\"relu\")\n",
    "model.Dense(10)\n"
   ]
  }
 ],
 "metadata": {
  "kernelspec": {
   "display_name": "Python 3.9 (tensorflow)",
   "language": "python",
   "name": "tensorflow"
  },
  "language_info": {
   "codemirror_mode": {
    "name": "ipython",
    "version": 3
   },
   "file_extension": ".py",
   "mimetype": "text/x-python",
   "name": "python",
   "nbconvert_exporter": "python",
   "pygments_lexer": "ipython3",
   "version": "3.9.9"
  }
 },
 "nbformat": 4,
 "nbformat_minor": 5
}
