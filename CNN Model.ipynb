{
 "cells": [
  {
   "cell_type": "code",
   "execution_count": null,
   "id": "a0b106a8",
   "metadata": {},
   "outputs": [],
   "source": [
    "#import required modules/ libraries\n",
    "import tensorflow as tf\n",
    "import numpy as np\n",
    "import matplotlib.pyplot as plt\n",
    "import cv2\n",
    "import os\n",
    "from tensorflow import keras\n",
    "from tensorflow.keras import models, layers, datasets"
   ]
  },
  {
   "cell_type": "code",
   "execution_count": null,
   "id": "a03e944a",
   "metadata": {},
   "outputs": [],
   "source": [
    "def extract_data(directory, categories):\n",
    "    data_array = np.empty((200,200,3)) \n",
    "    for category in categories:\n",
    "        path = os.path.join(directory, category)\n",
    "        #print(category)\n",
    "        #print(path)\n",
    "        temp_array = np.empty((200,200,3))\n",
    "        for img in os.listdir(path):\n",
    "            img_array = cv2.imread(os.path.join(path, img))\n",
    "            img_array = img_array.astype('float32')\n",
    "            img_array = cv2.resize(img_array, (200,200))\n",
    "            img_array = img_array/255\n",
    "            #print(img_array.shape)\n",
    "#             print(temp_array)\n",
    "#             print(image_array)\n",
    "            temp_array = np.append(temp_array, img_array,axis=0)\n",
    "        data_array = np.append(data_array, temp_array,axis=0)\n",
    "    return data_array"
   ]
  },
  {
   "cell_type": "code",
   "execution_count": null,
   "id": "0e8ce403",
   "metadata": {},
   "outputs": [],
   "source": [
    "#train data for plastics\n",
    "plastics_train_directory = \"/Users/janani/SASELabs/TRAIN/PLASTICS\"\n",
    "plastics_test_directory = \"/Users/janani/SASELabs/TEST/PLASTICS\"\n",
    "\n",
    "plastics_categories = [\"1_polyethylene_PET\", \"2_high_density_polyethylene_PE-HD\", \n",
    "                       \"3_polyvinylchloride_PVC\", \"4_low_density_polyethylene_PE-LD\",\n",
    "                       \"5_polypropylene_PP\", \"6_polystyrene_PS\", \"7_other_resins\", \"8_no_plastic\"]\n",
    "\n",
    "#train data\n",
    "train_data_plastics = extract_data(plastics_train_directory, plastics_categories)\n",
    "#train_data_plastics = np.array(train_data_plastics, dtype='float32')\n",
    "#data = make_img_list(plastics_train_directory, plastics_categories)\n",
    "print(train_data_plastics.shape)\n",
    "#show_images(plastics_train_directory, plastics_categories, data)\n",
    "# print(train_data_plastics.shape)\n",
    "# print(train_data_plastics.size)\n",
    "for i in range(20):\n",
    "    print(train_data_plastics[i][0])\n",
    "    print('done')\n",
    "#print(train_data_plastics)\n",
    "\n",
    "#test data\n",
    "#test_data_plastics = extract_data(plastics_test_directory,plastics_categories)\n",
    "\n",
    "#testing if arrays has received images\n",
    "print()"
   ]
  },
  {
   "cell_type": "code",
   "execution_count": null,
   "id": "fbdfab49",
   "metadata": {},
   "outputs": [],
   "source": [
    "#create numeric labels out of categories\n",
    "target_dict = {k:v for v,k in enumerate(np.unique(plastics_categories))}\n",
    "print(target_dict)\n",
    "\n",
    "#target_val=  [target_dict[plastics_categories[i]] for i in range(len(plastics_categories))\n",
    "target_values = []\n",
    "for k in range(len(plastics_categories)):\n",
    "    target_values.append(target_dict[plastics_categories[k]])\n",
    "#print(target_val)"
   ]
  },
  {
   "cell_type": "code",
   "execution_count": null,
   "id": "9d0c0639",
   "metadata": {},
   "outputs": [],
   "source": [
    "#creating convolutional layers\n",
    "model = models.Sequential()\n",
    "\n",
    "#adding convolutional and pooling layers\n",
    "model.add(layers.Conv2D(32, (3,3), activation=\"relu\", input_shape=(32,32,3)))\n",
    "model.add(layers.MaxPooling2D(2,2))\n",
    "model.add(layers.Conv2D(64, (3,3), activation=\"relu\"))\n",
    "model.add(layers.MaxPooling2D(2,2))\n",
    "\n",
    "#reducing the output layers from before to one-dimension\n",
    "model.add(layers.Flatten())\n",
    "\n",
    "#Dense layers with nodes that have scores indicating \n",
    "model.add(layers.Dense(100, activation=\"relu\"))\n",
    "model.add(layers.Dense(10))\n",
    "\n",
    "model.summary()"
   ]
  },
  {
   "cell_type": "code",
   "execution_count": null,
   "id": "565294d8",
   "metadata": {},
   "outputs": [],
   "source": [
    "#train data for waste\n",
    "waste_train_directory = \"/Users/janani/SASELabs/TRAIN/WASTE\"\n",
    "waste_test_directory = \"/Users/janani/SASELabs/TEST/WASTE\"\n",
    "waste_categories = [\"Aluminium\",\"Carton\",\"Glass\",\"OrganicWaste\",\n",
    "                    \"OtherPlastics\",\"PETPlastics\",\"PaperandCardboard\",\"Textiles\",\"Wood\"]\n",
    "#train data\n",
    "train_data_waste = extract_data(waste_train_directory, waste_categories)\n",
    "print(train_data_waste.shape)\n",
    "#test data\n",
    "#test_data_waste = extract_data(waste_test_directory,waste_categories)\n",
    "\n",
    "#testing if arrays has received images\n",
    "#print(len(train_data_plastics[0]))\n",
    "#print(len(test_data_plastics[0]))"
   ]
  },
  {
   "cell_type": "code",
   "execution_count": null,
   "id": "09c90bfb",
   "metadata": {},
   "outputs": [],
   "source": [
    "def make_img_list(directory, categories):\n",
    "    data = []\n",
    "    for category in categories:\n",
    "        path = os.path.join(directory, category)\n",
    "        images_list = os.listdir(path)\n",
    "        temp = []\n",
    "        for img in images_list:\n",
    "            temp.append(img)\n",
    "        data.append(temp)\n",
    "    return data"
   ]
  },
  {
   "cell_type": "code",
   "execution_count": null,
   "id": "7115d2c8",
   "metadata": {},
   "outputs": [],
   "source": [
    "def show_images(directory, categories, img_array):\n",
    "    for i in range(len(categories)):\n",
    "        path = os.path.join(directory, categories[i])\n",
    "        first_image = cv2.imread(os.path.join(path,img_array[i][0]), cv2.IMREAD_GRAYSCALE)\n",
    "        plt.imshow(first_image, cmap=\"gray\")\n",
    "        plt.show()\n",
    "    "
   ]
  },
  {
   "cell_type": "code",
   "execution_count": null,
   "id": "be6dc1b0",
   "metadata": {},
   "outputs": [],
   "source": []
  }
 ],
 "metadata": {
  "celltoolbar": "Raw Cell Format",
  "kernelspec": {
   "display_name": "Python 3.9 (tensorflow)",
   "language": "python",
   "name": "tensorflow"
  },
  "language_info": {
   "codemirror_mode": {
    "name": "ipython",
    "version": 3
   },
   "file_extension": ".py",
   "mimetype": "text/x-python",
   "name": "python",
   "nbconvert_exporter": "python",
   "pygments_lexer": "ipython3",
   "version": "3.9.9"
  }
 },
 "nbformat": 4,
 "nbformat_minor": 5
}
